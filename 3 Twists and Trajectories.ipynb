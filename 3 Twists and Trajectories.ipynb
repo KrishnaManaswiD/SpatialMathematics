{
 "cells": [
  {
   "cell_type": "code",
   "execution_count": null,
   "metadata": {},
   "outputs": [],
   "source": [
    "try:\n",
    "  # We must install required packages if we are in Google Colab\n",
    "  import google.colab\n",
    "  %pip install roboticstoolbox-python>=1.0.2\n",
    "except:\n",
    "  # We are not in Google Colab\n",
    "  # Apply custon style to notebook\n",
    "  from IPython.core.display import HTML\n",
    "  import pathlib\n",
    "  styles_path = pathlib.Path(pathlib.Path().absolute(), \"style\", \"style.css\")\n",
    "  styles = open(styles_path, \"r\").read()\n",
    "  HTML(f\"<style>{styles}</style>\")"
   ]
  },
  {
   "attachments": {},
   "cell_type": "markdown",
   "metadata": {},
   "source": [
    "$\\large{\\text{Foundations of Kinematics and Algorithms in Robotics}}$\n",
    "\n",
    "$\\large{\\text{Module 3: Twists and Trajectories}}$\n",
    "\n",
    "$\\text{By Krishna Manaswi Digumarti}$\n",
    "\n",
    "$\\text{Based on work by Peter Corke and Jesse Haviland}$ - [Original here](https://github.com/jhavl/spatialmathematics/tree/main)\n",
    "\n",
    "<br>\n",
    "\n",
    "### Contents\n",
    "\n",
    "[1.0 Twists](#1)  \n",
    "[2.0 Trajectories](#2)  \n",
    "[3.0 Interpolation of Orientation](#3)  \n",
    "[4.0 Interpolation of Pose](#4)  "
   ]
  },
  {
   "cell_type": "code",
   "execution_count": null,
   "metadata": {},
   "outputs": [],
   "source": [
    "# We will do the imports required for this notebook here\n",
    "\n",
    "# numpy provides import array and linear algebra utilities\n",
    "import numpy as np\n",
    "\n",
    "# the robotics toolbox provides robotics specific functionality\n",
    "import roboticstoolbox as rtb\n",
    "\n",
    "# spatial math provides objects for representing transformations\n",
    "import spatialmath as sm\n",
    "import spatialmath.base as smb\n",
    "\n",
    "import spatialgeometry as sg\n",
    "\n",
    "from swift import Swift\n",
    "\n",
    "# The matrix exponential method\n",
    "from scipy.linalg import expm, logm\n",
    "\n",
    "# sympy provides symbolic mathematic operations \n",
    "import sympy as sym\n",
    "\n",
    "# setting up sympy to print nicely\n",
    "from IPython import display as ds\n",
    "from sympy.physics.mechanics import init_vprinting\n",
    "init_vprinting(use_latex='mathjax')"
   ]
  },
  {
   "attachments": {},
   "cell_type": "markdown",
   "metadata": {},
   "source": [
    "<br>\n",
    "\n",
    "<a id='1'></a>\n",
    "# 1.0 Twists\n",
    "---"
   ]
  },
  {
   "attachments": {},
   "cell_type": "markdown",
   "metadata": {},
   "source": [
    "Earlier, we discussed the concept of Lie groups and we explained how we can get an $\\mathbf{SO}(3)$ matrix from the angle-axis representation:\n",
    "\n",
    "Given the angle-axis representation where\n",
    "$$\n",
    "    \\hat{\\mathbf{\\eta}} = \\begin{pmatrix}\n",
    "        \\hat{\\eta}_0 \\\\\n",
    "        \\hat{\\eta}_1 \\\\\n",
    "        \\hat{\\eta}_2\n",
    "    \\end{pmatrix}\n",
    "$$\n",
    "\n",
    "defines the axis of rotation, and $\\theta$ is the angle of rotation, we can obtain the Euler vector (also known as the exponential coordinates) by\n",
    "\n",
    "\\begin{equation*}\n",
    "    \\bf{\\eta} =\n",
    "    \\hat{\\eta} \\ \\theta \\in \\mathbb{R}^3\n",
    "\\end{equation*}\n",
    "\n",
    "and we can turn the Euler vector into an $\\mathbf{so}(3)$ matrix (the Lie algebra of the $\\mathbf{SO}(3)$ group) through the `skew` operation\n",
    "\n",
    "$$\n",
    "    [\\mathbf{\\eta}]_\\times =\n",
    "    \\begin{pmatrix}\n",
    "        0 & -\\eta_2 & \\eta_1 \\\\\n",
    "        \\eta_2 & 0 & -\\eta_0 \\\\\n",
    "        -\\eta_1 & \\eta_0 & 0\n",
    "    \\end{pmatrix} \\in \\mathbf{so}(3).\n",
    "$$\n",
    "\n",
    "Finally, we can construct the $\\mathbf{SO}(3)$ matrix from the $\\mathbf{so}(3)$ matrix using the matrix exponential\n",
    "\n",
    "$$\n",
    "    \\mathbf{R}(\\mathbf{\\eta}) = e^{[\\mathbf{\\eta}]_\\times} \\in \\mathbf{SO}(3).\n",
    "$$\n"
   ]
  },
  {
   "attachments": {},
   "cell_type": "markdown",
   "metadata": {},
   "source": [
    "## Representing Pose as a Twist\n",
    "\n",
    "We can represent pose as a twist\n",
    "\n",
    "$$\n",
    "    \\mathbf{s} =\n",
    "    \\begin{pmatrix}\n",
    "        \\upsilon_0 \\\\\n",
    "        \\upsilon_1 \\\\\n",
    "        \\upsilon_2 \\\\\n",
    "        \\eta_0 \\\\\n",
    "        \\eta_1 \\\\\n",
    "        \\eta_2\n",
    "    \\end{pmatrix}\n",
    "    \\in \\mathbb{R}^6\n",
    "$$\n",
    "\n",
    "where the first three elements $\\mathbf{\\upsilon}$ define the translation and the last three elements $\\mathbf{\\eta}$ define the rotation.\n",
    "\n",
    "_Note that in some textbooks, the $\\upsilon$ and $\\eta$ are swapped in $\\mathbf{s}$._\n",
    "\n",
    "_Note that we are using the Greek letter upsilon $\\upsilon$ (not to be confused with the English letter $v$ or the Greek letter nu $\\nu$) to represent the translation component._\n",
    "\n"
   ]
  },
  {
   "attachments": {},
   "cell_type": "markdown",
   "metadata": {},
   "source": [
    "We can convert a twist into an augmented skew symmetric matrix (the Lie algebra of the $\\mathbf{SE}(3)$ group) using the `skewa` operation\n",
    "\n",
    "$$\n",
    "    [\\mathbf{s}] =\n",
    "    \\begin{pmatrix}\n",
    "        0 & -\\eta_2 & \\eta_1 & \\upsilon_0 \\\\\n",
    "        \\eta_2 & 0 & -\\eta_0 & \\upsilon_1 \\\\\n",
    "        -\\eta_1 & \\eta_0 & 0 & \\upsilon_2 \\\\\n",
    "        0 & 0 & 0 & 0\n",
    "    \\end{pmatrix} \\in \\mathbf{se}(3).\n",
    "$$\n",
    "\n",
    "and we can convert this matrix into an $\\mathbf{SE}(3)$ matrix using the matrix exponential\n",
    "\n",
    "$$\n",
    "    \\mathbf{T}(\\mathbf{s}) = e^{[\\mathbf{s}]} \\in \\mathbf{SE}(3).\n",
    "$$"
   ]
  },
  {
   "cell_type": "code",
   "execution_count": null,
   "metadata": {},
   "outputs": [],
   "source": [
    "# Define the symbolic variables\n",
    "v1, v2, v3, eta1, eta2, eta3 = sym.symbols(['upsilon_1', 'upsilon_2', 'upsilon_3', 'eta_1', 'eta_2', 'eta_3'])\n",
    "\n",
    "# Define the twist\n",
    "s = np.array([v1, v2, v3, eta1, eta2, eta3])\n",
    "\n",
    "# Print the twist\n",
    "ds.display(ds.Math(f\"\\\\mathbf{{s}} = {sym.latex(sym.Matrix(s))}\"))"
   ]
  },
  {
   "cell_type": "code",
   "execution_count": null,
   "metadata": {},
   "outputs": [],
   "source": [
    "# Turn the twist into an se(3) matrix\n",
    "s_sk = smb.skewa(s)\n",
    "\n",
    "# Print the matrix\n",
    "ds.display(ds.Math(f\"[\\\\mathbf{{s}}] = {sym.latex(sym.Matrix(s_sk))}\"))\n"
   ]
  },
  {
   "attachments": {},
   "cell_type": "markdown",
   "metadata": {},
   "source": [
    "## The Zero Twist\n",
    "\n",
    "What happens if we make a twist with all zeros?\n",
    "\n",
    "$$\n",
    "    \\mathbf{s} =\n",
    "    \\begin{pmatrix}\n",
    "        0 \\\\\n",
    "        0 \\\\\n",
    "        0 \\\\\n",
    "        0 \\\\\n",
    "        0 \\\\\n",
    "        0\n",
    "    \\end{pmatrix}\n",
    "$$\n",
    "\n",
    "We can convert this into an augmented skew symmetric matrix\n",
    "\n",
    "$$\n",
    "    [\\mathbf{s}] =\n",
    "    \\begin{pmatrix}\n",
    "        0 & 0 & 0 & 0 \\\\\n",
    "        0 & 0 & 0 & 0 \\\\\n",
    "        0 & 0 & 0 & 0 \\\\\n",
    "        0 & 0 & 0 & 0\n",
    "    \\end{pmatrix}\n",
    "$$\n",
    "\n",
    "and we can convert this matrix into an $\\mathbf{SE}(3)$ matrix using the matrix exponential\n",
    "\n",
    "\\begin{align*}\n",
    "    \\mathbf{T}(\\mathbf{s})\n",
    "    &= e^{[\\mathbf{s}]} \\\\\n",
    "    &=\n",
    "    \\begin{pmatrix}\n",
    "        1 & 0 & 0 & 0 \\\\\n",
    "        0 & 1 & 0 & 0 \\\\\n",
    "        0 & 0 & 1 & 0 \\\\\n",
    "        0 & 0 & 0 & 1\n",
    "    \\end{pmatrix} \n",
    "\\end{align*}\n",
    "\n",
    "which gives us the identity matrix. Therefore, the zero twist represents a null or identity transformation.\n"
   ]
  },
  {
   "cell_type": "code",
   "execution_count": null,
   "metadata": {},
   "outputs": [],
   "source": [
    "# Do this using code\n",
    "s = np.zeros(6)\n",
    "\n",
    "# Convert to an augmented skew-symmetric matrix\n",
    "s_sk = smb.skewa(s)\n",
    "\n",
    "# Convert to an SE(3) matrix\n",
    "T = expm(s_sk)\n",
    "\n",
    "# Display the results\n",
    "ds.display(ds.Math(f\"\\\\mathbf{{s}} = {sym.latex(sym.Matrix(s))}\"))\n",
    "ds.display(ds.Math(f\"[\\\\mathbf{{s}}] = {sym.latex(sym.Matrix(s_sk))}\"))\n",
    "ds.display(ds.Math(f\"\\\\mathbf{{T}} = {sym.latex(sym.Matrix(T))}\"))\n"
   ]
  },
  {
   "attachments": {},
   "cell_type": "markdown",
   "metadata": {},
   "source": [
    "## Rotation only Twist\n",
    "\n",
    "What happens if we make a twist around the $z$-axis and no translation component?\n",
    "\n",
    "$$\n",
    "    \\mathbf{s}(\\theta) =\n",
    "    \\begin{pmatrix}\n",
    "        0 \\\\\n",
    "        0 \\\\\n",
    "        0 \\\\\n",
    "        0 \\\\\n",
    "        0 \\\\\n",
    "        \\theta\n",
    "    \\end{pmatrix}\n",
    "$$\n",
    "\n",
    "We can convert this into an augmented skew symmetric matrix\n",
    "\n",
    "$$\n",
    "    [\\mathbf{s}(\\theta)] =\n",
    "    \\begin{pmatrix}\n",
    "        0 & -\\theta & 0 & 0 \\\\\n",
    "        \\theta & 0 & 0 & 0 \\\\\n",
    "        0 & 0 & 0 & 0 \\\\\n",
    "        0 & 0 & 0 & 0\n",
    "    \\end{pmatrix}\n",
    "$$\n",
    "\n",
    "and we can convert this matrix into an $\\mathbf{SE}(3)$ matrix using the matrix exponential\n",
    "\n",
    "\\begin{align*}\n",
    "    \\mathbf{T}(\\theta)\n",
    "    &= e^{[\\mathbf{s}(\\theta)]} \\\\\n",
    "    &=\n",
    "    \\begin{pmatrix}\n",
    "        \\cos(\\theta) & -\\sin(\\theta) & 0 & 0 \\\\\n",
    "        \\sin(\\theta) & \\cos(\\theta) & 0 & 0 \\\\\n",
    "        0 & 0 & 1 & 0 \\\\\n",
    "        0 & 0 & 0 & 1\n",
    "    \\end{pmatrix}\n",
    "\\end{align*}\n",
    "\n"
   ]
  },
  {
   "attachments": {},
   "cell_type": "markdown",
   "metadata": {},
   "source": [
    "And we can see this is just a rotation matrix around the $z$-axis embedded in an $\\mathbf{SE}(3)$ matrix."
   ]
  },
  {
   "cell_type": "code",
   "execution_count": null,
   "metadata": {},
   "outputs": [],
   "source": [
    "# Define the symbolic variables\n",
    "theta = sym.symbols('theta')\n",
    "\n",
    "# Do this using code\n",
    "s = np.array([0, 0, 0, 0, 0, theta])\n",
    "\n",
    "# Convert to an augmented skew-symmetric matrix\n",
    "s_sk = smb.skewa(s)\n",
    "\n",
    "# Convert to an SE(3) matrix\n",
    "T = sym.simplify(sym.Matrix(s_sk).exp())\n",
    "\n",
    "# Display the results\n",
    "ds.display(ds.Math(f\"\\\\mathbf{{s}} = {sym.latex(sym.Matrix(s))}\"))\n",
    "ds.display(ds.Math(f\"[\\\\mathbf{{s}}] = {sym.latex(sym.Matrix(s_sk))}\"))\n",
    "ds.display(ds.Math(f\"\\\\mathbf{{T}} = {sym.latex(sym.Matrix(T))}\"))"
   ]
  },
  {
   "attachments": {},
   "cell_type": "markdown",
   "metadata": {},
   "source": [
    "## Translation only Twist\n",
    "\n",
    "What happens if we make a twist with no rotation component and a translation component?\n",
    "\n",
    "$$\n",
    "    \\mathbf{s}(\\upsilon) =\n",
    "    \\begin{pmatrix}\n",
    "        \\upsilon_1 \\\\\n",
    "        \\upsilon_2 \\\\\n",
    "        \\upsilon_3 \\\\\n",
    "        0 \\\\\n",
    "        0 \\\\\n",
    "        0\n",
    "    \\end{pmatrix}\n",
    "$$\n",
    "\n",
    "We can convert this into an augmented skew symmetric matrix\n",
    "\n",
    "$$\n",
    "    [\\mathbf{s}(\\upsilon)] =\n",
    "    \\begin{pmatrix}\n",
    "        0 & 0 & 0 & \\upsilon_1 \\\\\n",
    "        0 & 0 & 0 & \\upsilon_2 \\\\\n",
    "        0 & 0 & 0 & \\upsilon_3 \\\\\n",
    "        0 & 0 & 0 & 0\n",
    "    \\end{pmatrix}\n",
    "$$\n",
    "\n",
    "and we can convert this matrix into an $\\mathbf{SE}(3)$ matrix using the matrix exponential\n",
    "\n",
    "\\begin{align*}\n",
    "    \\mathbf{T}(\\upsilon)\n",
    "    &= e^{[\\mathbf{s}(\\upsilon)]} \\\\\n",
    "    &=\n",
    "    \\begin{pmatrix}\n",
    "        1 & 0 & 0 & \\upsilon_1 \\\\\n",
    "        0 & 1 & 0 & \\upsilon_2 \\\\\n",
    "        0 & 0 & 1 & \\upsilon_3 \\\\\n",
    "        0 & 0 & 0 & 1\n",
    "    \\end{pmatrix}\n",
    "\\end{align*}\n",
    "\n"
   ]
  },
  {
   "attachments": {},
   "cell_type": "markdown",
   "metadata": {},
   "source": [
    "For the case where there is no rotation, the translation component of the twist $\\mathbf{\\upsilon}$ to the translation component $\\mathbf{t}$ of the $\\mathbf{SE}(3)$ matrix."
   ]
  },
  {
   "cell_type": "code",
   "execution_count": null,
   "metadata": {},
   "outputs": [],
   "source": [
    "# Define the symbolic variables\n",
    "x, y, z = sym.symbols(['x', 'y', 'z'])\n",
    "\n",
    "# Do this using code\n",
    "s = np.array([x, y, z, 0, 0, 0])\n",
    "\n",
    "# Convert to an augmented skew-symmetric matrix\n",
    "s_sk = smb.skewa(s)\n",
    "\n",
    "# Convert to an SE(3) matrix\n",
    "T = sym.simplify(sym.Matrix(s_sk).exp())\n",
    "\n",
    "# Display the results\n",
    "ds.display(ds.Math(f\"\\\\mathbf{{s}} = {sym.latex(sym.Matrix(s))}\"))\n",
    "ds.display(ds.Math(f\"[\\\\mathbf{{s}}] = {sym.latex(sym.Matrix(s_sk))}\"))\n",
    "ds.display(ds.Math(f\"\\\\mathbf{{T}} = {sym.latex(sym.Matrix(T))}\"))"
   ]
  },
  {
   "attachments": {},
   "cell_type": "markdown",
   "metadata": {},
   "source": [
    "Caution is needed at this point. Up to this point, we have looked at rotation only and translation only twists and they behave very simply.\n",
    "\n",
    "* For a rotation only twist, the rotation component of the twist acts exactly the same as the Euler vector in a rotation.\n",
    "* For a translation only twist, the translation component of the twist is equal to the translation in the $\\mathbf{SE}(3)$ matrix.\n",
    "\n",
    "If we have a twist with **both** a non-zero rotation and a translation component, then the translation component of the twist does not act the same as the translation component of the $\\mathbf{SE}(3)$ matrix."
   ]
  },
  {
   "attachments": {},
   "cell_type": "markdown",
   "metadata": {},
   "source": [
    "## Twists as a Pose"
   ]
  },
  {
   "attachments": {},
   "cell_type": "markdown",
   "metadata": {},
   "source": [
    "In 3D, a twist is equivalent to screw or helicoidal motion – motion about and along some line in space as shown below. Rigid-body motion between any two poses can be represented by such screw motion."
   ]
  },
  {
   "attachments": {},
   "cell_type": "markdown",
   "metadata": {},
   "source": [
    "<img src=\"./Figures/3/fig2_24.png\" width=\"400\">"
   ]
  },
  {
   "attachments": {},
   "cell_type": "markdown",
   "metadata": {},
   "source": [
    "Given a twist\n",
    "\n",
    "$$\n",
    "    \\mathbf{s} =\n",
    "    \\begin{pmatrix}\n",
    "        \\upsilon_1 \\\\\n",
    "        \\upsilon_2 \\\\\n",
    "        \\upsilon_3 \\\\\n",
    "        \\eta_1 \\\\\n",
    "        \\eta_2 \\\\\n",
    "        \\eta_3\n",
    "    \\end{pmatrix}\n",
    "$$\n",
    "\n",
    "or a pair of vectors\n",
    "\n",
    "$$\n",
    "    \\mathbf{s} =\n",
    "    \\begin{pmatrix}\n",
    "        \\mathbf{\\upsilon} \\\\\n",
    "        \\mathbf{\\eta}\n",
    "    \\end{pmatrix}\n",
    "$$\n",
    "\n",
    "where $\\mathbf{\\upsilon}$ defines a moment and $\\mathbf{\\eta}$ is a vector parallel to the rotation axis. The moment encodes a point lying on the twist axis, as well as the screw pitch which is the ratio of the distance along the screw axis to the rotation about the screw axis.\n",
    "\n"
   ]
  },
  {
   "attachments": {},
   "cell_type": "markdown",
   "metadata": {},
   "source": [
    "To illustrate the underlying screw motion, we will progressively rotate a coordinate frame about a screw. We define a screw parallel to the $z$-axis that passes through the point (2, 3, 2) and has a pitch of 0.5"
   ]
  },
  {
   "cell_type": "code",
   "execution_count": null,
   "metadata": {},
   "outputs": [],
   "source": [
    "axis = [0.0, 0.0, 1.0]\n",
    "point = [2.0, 3.0, 2.0]\n",
    "pitch = 0.5\n",
    "\n",
    "S = sm.Twist3.UnitRevolute(axis, point, pitch)"
   ]
  },
  {
   "attachments": {},
   "cell_type": "markdown",
   "metadata": {},
   "source": [
    "and the coordinate frame to be rotated is described by an $\\mathbf{SE}(3)$ matrix"
   ]
  },
  {
   "cell_type": "code",
   "execution_count": null,
   "metadata": {},
   "outputs": [],
   "source": [
    "# Describe the coordinate frame {x} relative to the world frame\n",
    "Tx = smb.transl(3, 4, 2)"
   ]
  },
  {
   "attachments": {},
   "cell_type": "markdown",
   "metadata": {},
   "source": [
    "For values of $\\theta$ in the range 0 to 15 rad, we evaluate the twist for each value of $\\theta$, apply it to the frame ${^0\\mathbf{T}}_x$ and plot the result"
   ]
  },
  {
   "cell_type": "code",
   "execution_count": null,
   "metadata": {},
   "outputs": [],
   "source": [
    "env = Swift()\n",
    "env.launch(browser='notebook')\n",
    "\n",
    "# Add the coordinate frame {x} to the environment\n",
    "# This will be the largest coordinate frame\n",
    "Tx_ax = sg.Axes(0.5)\n",
    "Tx_ax.T = Tx\n",
    "env.add(Tx_ax)\n",
    "\n",
    "for theta in np.arange(0, 15, 0.3):\n",
    "    ax = sg.Axes(0.1)\n",
    "    ax.T = S.exp(theta).A @ Tx\n",
    "    env.add(ax)\n",
    "\n",
    "env.set_camera_pose([10.0, 4.0, 12.0], [0, 2.0, 1.0])"
   ]
  },
  {
   "attachments": {},
   "cell_type": "markdown",
   "metadata": {},
   "source": [
    "The Swift environment above clearly shows the screw motion in the successive poses of the frame ${x}$ as it is rotated about the screw axis.\n",
    "\n",
    "We can also convert an arbitrary $\\mathbf{SE}(3)$ matrix into a twist using `spatialmath`"
   ]
  },
  {
   "cell_type": "code",
   "execution_count": null,
   "metadata": {},
   "outputs": [],
   "source": [
    "T = smb.transl(1.0, 2.0, 3.0) @ smb.eul2tr(0.3, 0.4, 0.5)\n",
    "S = sm.Twist3(T)\n",
    "print(S)"
   ]
  },
  {
   "attachments": {},
   "cell_type": "markdown",
   "metadata": {},
   "source": [
    "and we see that the twist vector is the unique elements of the logarithm of the $\\mathbf{SE}(3)$ matrix. The screw in this case is parallel to"
   ]
  },
  {
   "cell_type": "code",
   "execution_count": null,
   "metadata": {},
   "outputs": [],
   "source": [
    "S.w"
   ]
  },
  {
   "attachments": {},
   "cell_type": "markdown",
   "metadata": {},
   "source": [
    "passes through the point"
   ]
  },
  {
   "cell_type": "code",
   "execution_count": null,
   "metadata": {},
   "outputs": [],
   "source": [
    "S.pole"
   ]
  },
  {
   "attachments": {},
   "cell_type": "markdown",
   "metadata": {},
   "source": [
    "and has a pitch of"
   ]
  },
  {
   "cell_type": "code",
   "execution_count": null,
   "metadata": {},
   "outputs": [],
   "source": [
    "S.pitch"
   ]
  },
  {
   "attachments": {},
   "cell_type": "markdown",
   "metadata": {},
   "source": [
    "and the rigid-body motion requires a rotation about the screw of"
   ]
  },
  {
   "cell_type": "code",
   "execution_count": null,
   "metadata": {},
   "outputs": [],
   "source": [
    "S.theta"
   ]
  },
  {
   "attachments": {},
   "cell_type": "markdown",
   "metadata": {},
   "source": [
    "radians, which is about 1/7th of a turn. Adjust the parameters in the Swift environment above to see the effect of changing the screw parameters."
   ]
  },
  {
   "attachments": {},
   "cell_type": "markdown",
   "metadata": {},
   "source": [
    "## Test Your Understanding\n",
    "\n",
    "#### Question 1\n",
    "\n",
    "What is the difference between a twist and a unit twist? How may a unit twist be used in practice?\n",
    "\n",
    "#### Question 2\n",
    "\n",
    "How would you compose two twists?\n",
    "\n",
    "#### Question 3\n",
    "\n",
    "What is the inverse of a twist (the twist that causes the opposite transformation)?\n",
    "\n",
    "#### Question 4\n",
    "\n",
    "Is it faster to compose two $\\mathbf{SE}(3)$ matrices or to convert them to twists and compose them?\n",
    "\n",
    "#### Question 5\n",
    "\n",
    "What is an advantage of using twists over $\\mathbf{SE}(3)$ matrices? What is a disadvantage?\n",
    "\n",
    "#### Question 6\n",
    "\n",
    "Following the Rotation only Twist example above, what is the $\\mathbf{SE}(3)$ matrix for the twist\n",
    "\n",
    "$$\n",
    "    \\mathbf{s}(\\theta) =\n",
    "    \\begin{pmatrix}\n",
    "        0 \\\\\n",
    "        0 \\\\\n",
    "        0 \\\\\n",
    "        \\theta_x \\\\\n",
    "        0 \\\\\n",
    "        \\theta_z\n",
    "    \\end{pmatrix}\n",
    "$$\n",
    "\n",
    "What does the result mean?"
   ]
  },
  {
   "attachments": {},
   "cell_type": "markdown",
   "metadata": {},
   "source": [
    "<br>\n",
    "\n",
    "<a id='2'></a>\n",
    "# 2.0 Trajectories\n",
    "---"
   ]
  },
  {
   "attachments": {},
   "cell_type": "markdown",
   "metadata": {},
   "source": [
    "We wish to make trajectories with boundary conditions. The boundary conditions are that at time $t=0$ we have a set pose, orientation, or position and at time $t=T$ we have a desired pose, orientation, or position.\n",
    "\n",
    "Additionally, real-world  constraints exist. For example, a drone, car, or manipulator cannot instantly _step_ in velocity, to do so would require infinite acceleration. Therefore we may define another boundary condition that the initial and final velocity is zero."
   ]
  },
  {
   "attachments": {},
   "cell_type": "markdown",
   "metadata": {},
   "source": [
    "## 2.1 Smooth One-Dimensional Trajectory"
   ]
  },
  {
   "attachments": {},
   "cell_type": "markdown",
   "metadata": {},
   "source": [
    "### Polynomial Trajectory"
   ]
  },
  {
   "attachments": {},
   "cell_type": "markdown",
   "metadata": {},
   "source": [
    "We start our discussion with a scalar function of time that has a\n",
    "specified initial and final value.\n",
    "An obvious candidate for such a smooth function is a polynomial\n",
    "function of time. Polynomials are\n",
    "simple to compute and can easily provide the required smoothness and boundary conditions. A quintic\n",
    "(fifth-order) polynomial is commonly used\n",
    "\n",
    "$$\n",
    "\tq(t)=At^{5}+Bt^{4}+Ct^{3}+Dt^{2}+Et+F\n",
    "$$\n",
    "\n",
    "where time $t\\in [0,T]$. The first- and second-derivatives are also polynomials\n",
    "\n",
    "\\begin{align*}\n",
    "\t\\dot{q}(t)  &= 5At^{4}+4Bt^{3}+3Ct^{2}+2Dt+E \\\\\n",
    "\t\\ddot{q}(t) &= 20At^{3}+12Bt^{2}+6Ct+2D\n",
    "\\end{align*}\n",
    "\n",
    "and therefore smooth. The third-derivative, jerk, will be a quadratic.\n",
    "\n",
    "The trajectory has defined boundary conditions for position ($q_0$, $q_T$), velocity ($\\dot{q}_0$, $\\dot{q}_T$) and\n",
    "acceleration ($\\ddot{q}_0$, $\\ddot{q}_T$).\n",
    "Writing $q(t)$ to $\\ddot{q}(t)$ for the boundary conditions $t=0$ and $t=T$ gives six\n",
    "equations which we can write in matrix form as\n",
    "\n",
    "$$\n",
    "\t\\left(\\begin{array}{c}\n",
    "\t\tq_{0}\\cr\n",
    "\t\tq_{T}\\cr\n",
    "\t\t\\dot{q}_{0}\\cr\n",
    "\t\t\\dot{q}_{T}\\cr\n",
    "\t\t\\ddot{q}_{0}\\cr\n",
    "\t\t\\ddot{q}_{T}\n",
    "\t\\end{array}\\right)%þ\n",
    "\t=\\begin{pmatrix}\n",
    "\t\t0       & 0       & 0      & 0     & 0 & 1\\cr\n",
    "\t\tT^{5}   & T^{4}   & T^{3}  & T^{2} & T & 1\\cr\n",
    "\t\t0       & 0       & 0      & 0     & 1 & 0\\cr\n",
    "\t\t5T^{4}  & 4T^{3}  & 3T^{2} & 2T    & 1 & 0\\cr\n",
    "\t\t0       & 0       & 0      & 2     & 0 & 0\\cr\n",
    "\t\t20T^{3} & 12T^{2} & 6T     & 2     & 0 & 0\n",
    "\t\\end{pmatrix}\n",
    "\t\\left(\\begin{array}{c}\n",
    "\t\tA\\cr\n",
    "\t\tB\\cr\n",
    "\t\tC\\cr\n",
    "\t\tD\\cr\n",
    "\t\tE\\cr\n",
    "\t\tF\n",
    "\t\\end{array}\\right)  \\,\\,.\n",
    "$$\n",
    "\n",
    "The matrix is square and, if $T \\ne 0$, we can invert it to solve for the coefficient vector $(A, B, C, D, E, F)$.\n",
    "\n",
    "_This is the reason for choice of quintic polynomial. It has six coefficients that enable it to meet the six boundary conditions on initial and final position, velocity and acceleration._"
   ]
  },
  {
   "attachments": {},
   "cell_type": "markdown",
   "metadata": {},
   "source": [
    "The Toolbox provides a function to generate the trajectory described above"
   ]
  },
  {
   "cell_type": "code",
   "execution_count": null,
   "metadata": {},
   "outputs": [],
   "source": [
    "# The initial position\n",
    "q0 = 0.0\n",
    "\n",
    "# The final position\n",
    "qf = 1.0\n",
    "\n",
    "# The start time\n",
    "t0 = 0.0\n",
    "\n",
    "# The end time\n",
    "tf = 1.0\n",
    "\n",
    "# A vector for time\n",
    "# Steps from t0 to tf in 50 steps\n",
    "t = np.linspace(t0, tf, 50)\n",
    "\n",
    "# Create the trajectory\n",
    "traj = rtb.quintic(q0, qf, t)\n",
    "\n",
    "# Plot the trajectory\n",
    "traj.plot()"
   ]
  },
  {
   "cell_type": "code",
   "execution_count": null,
   "metadata": {},
   "outputs": [],
   "source": [
    "# Animate the trajectory\n",
    "env = Swift()\n",
    "env.launch(browser='notebook', realtime=True)\n",
    "obj = sg.Sphere(0.03, color=\"#fc0349\")\n",
    "env.add(obj)\n",
    "env.set_camera_pose([0.5, 1.0, 0.5], [0.5, 0.0, 0.0])\n",
    "\n",
    "for q in traj.q:\n",
    "    obj.T = sm.SE3.Tx(q)\n",
    "    env.step(0.02)"
   ]
  },
  {
   "attachments": {},
   "cell_type": "markdown",
   "metadata": {},
   "source": [
    "We can see in the above Figure that the initial position, velocity and acceleration are 0, the final position is 1, and the final velocity and acceleration are 0. These are our boundary conditions. Adjust the variables in the code above and see how the trajectory changes."
   ]
  },
  {
   "attachments": {},
   "cell_type": "markdown",
   "metadata": {},
   "source": [
    "We can access the position, velocity, acceleration vectors using `traj.q`, `traj.qd`, `traj.qdd` respectively."
   ]
  },
  {
   "cell_type": "code",
   "execution_count": null,
   "metadata": {},
   "outputs": [],
   "source": [
    "print(\"The position vector, rounded to 3 decimal places, is\")\n",
    "print(np.round(traj.q, 3))\n"
   ]
  },
  {
   "attachments": {},
   "cell_type": "markdown",
   "metadata": {},
   "source": [
    "We can set the desired initial final velocity by providing extra keyword arguments to the `traj` function."
   ]
  },
  {
   "cell_type": "code",
   "execution_count": null,
   "metadata": {},
   "outputs": [],
   "source": [
    "# The initial position\n",
    "q0 = 0.0\n",
    "\n",
    "# The final position\n",
    "qf = 1.0\n",
    "\n",
    "# The start time\n",
    "t0 = 0.0\n",
    "\n",
    "# The end time\n",
    "tf = 1.0\n",
    "\n",
    "# The initial velocity\n",
    "# we use qd as shorthand for qdot or dq/dt\n",
    "qd0 = 10.0\n",
    "\n",
    "# The final velocity\n",
    "qdf = 0.0\n",
    "\n",
    "# A vector for time\n",
    "# Steps from t0 to tf in 50 steps\n",
    "t = np.linspace(t0, tf, 50)\n",
    "\n",
    "# Create the trajectory\n",
    "traj2 = rtb.quintic(q0, qf, t, qd0, qdf)\n",
    "\n",
    "# Plot the trajectory\n",
    "traj2.plot()"
   ]
  },
  {
   "cell_type": "code",
   "execution_count": null,
   "metadata": {},
   "outputs": [],
   "source": [
    "# Animate the trajectory\n",
    "env = Swift()\n",
    "env.launch(browser='notebook', realtime=True)\n",
    "obj = sg.Sphere(0.03, color=\"#fc0349\")\n",
    "env.add(obj)\n",
    "env.set_camera_pose([1.1, 1.0, 0.5], [1.1, 0.0, 0.0])\n",
    "\n",
    "for q in traj2.q:\n",
    "    obj.T = sm.SE3.Tx(q)\n",
    "    env.step(0.02)"
   ]
  },
  {
   "attachments": {},
   "cell_type": "markdown",
   "metadata": {},
   "source": [
    "This illustrates an important problem with polynomials – non zero initial velocity causes the polynomial to overshoot the terminal value, in this example, peaking at over 2 on a trajectory from 0 to 1."
   ]
  },
  {
   "attachments": {},
   "cell_type": "markdown",
   "metadata": {},
   "source": [
    "Another problem with polynomials, a very practical one, can be seen in the middle graph of our first `traj` plot. The velocity peaks when $t = 0.5$ s which means that, for most of the time, the velocity is far less than the maximum. The mean velocity"
   ]
  },
  {
   "cell_type": "code",
   "execution_count": null,
   "metadata": {},
   "outputs": [],
   "source": [
    "qd = traj.qd\n",
    "\n",
    "qd.mean() / qd.max()\n"
   ]
  },
  {
   "attachments": {},
   "cell_type": "markdown",
   "metadata": {},
   "source": [
    "is only 52.3% of the peak so we are not using the motor as fully as we could. A real robot joint has a well-defined maximum speed and, for minimum-time motion, we want to be operating at that maximum for as much of the time as possible. We would like the velocity curve to be _flatter_ on top."
   ]
  },
  {
   "attachments": {},
   "cell_type": "markdown",
   "metadata": {},
   "source": [
    "### Trapezoidal Hybrid Trajectory"
   ]
  },
  {
   "attachments": {},
   "cell_type": "markdown",
   "metadata": {},
   "source": [
    "A well known alternative to polynomials is a _trapezoidal_ hybrid trajectory"
   ]
  },
  {
   "cell_type": "code",
   "execution_count": null,
   "metadata": {},
   "outputs": [],
   "source": [
    "# The initial position\n",
    "q0 = 0.0\n",
    "\n",
    "# The final position\n",
    "qf = 1.0\n",
    "\n",
    "# The start time\n",
    "t0 = 0.0\n",
    "\n",
    "# The end time\n",
    "tf = 1.0\n",
    "\n",
    "# A vector for time\n",
    "# Steps from t0 to tf in 50 steps\n",
    "t = np.linspace(t0, tf, 50)\n",
    "\n",
    "# Create the trajectory\n",
    "traj3 = rtb.trapezoidal(q0, qf, t)\n",
    "\n",
    "# Plot the trajectory\n",
    "traj3.plot()"
   ]
  },
  {
   "cell_type": "code",
   "execution_count": null,
   "metadata": {},
   "outputs": [],
   "source": [
    "# Animate the trajectory\n",
    "env = Swift()\n",
    "env.launch(browser='notebook', realtime=True)\n",
    "obj0 = sg.Sphere(0.03, color=\"#008cff\")\n",
    "obj1 = sg.Sphere(0.03, color=\"#fc0349\")\n",
    "env.add(obj0)\n",
    "env.add(obj1)\n",
    "env.set_camera_pose([0.5, 1.0, 0.5], [0.5, 0.0, 0.0])\n",
    "\n",
    "for q_0, q_1 in zip(traj.q, traj3.q):\n",
    "    obj0.T = sm.SE3.Tx(q_0)\n",
    "    obj1.T = sm.SE3.Tx(q_1)\n",
    "    env.step(0.02)\n"
   ]
  },
  {
   "attachments": {},
   "cell_type": "markdown",
   "metadata": {},
   "source": [
    "The animation above shows a comparison of the polynomial and trapezoidal profiles. The red sphere is trapezoidal and the blue sphere is polynomial."
   ]
  },
  {
   "attachments": {},
   "cell_type": "markdown",
   "metadata": {},
   "source": [
    "The velocity trajectory has a trapezoidal shape, hence the name, comprising three linear segments. The corresponding segments of the position trajectory are a straight line (constant velocity segment) with parabolic blends. The term blend refers to a trajectory segment that smoothly joins linear segments. This type of trajectory is commonly used in industrial motor drives. It is continuous in position and velocity, but not in acceleration.\n",
    "\n",
    "The function `trapezoidal` has chosen the velocity of the linear segment to be"
   ]
  },
  {
   "cell_type": "code",
   "execution_count": null,
   "metadata": {},
   "outputs": [],
   "source": [
    "traj3.qd.max()"
   ]
  },
  {
   "attachments": {},
   "cell_type": "markdown",
   "metadata": {},
   "source": [
    "but this can be overridden by specifying an additional argument"
   ]
  },
  {
   "cell_type": "code",
   "execution_count": null,
   "metadata": {},
   "outputs": [],
   "source": [
    "# Set the maximum velocity to 1.2\n",
    "v_max = 1.2\n",
    "\n",
    "traj4 = rtb.trapezoidal(q0, qf, t, V=v_max)\n",
    "traj4.plot()"
   ]
  },
  {
   "cell_type": "code",
   "execution_count": null,
   "metadata": {},
   "outputs": [],
   "source": [
    "# Set the maximum velocity to 1.9\n",
    "v_max = 1.9\n",
    "\n",
    "traj5 = rtb.trapezoidal(q0, qf, t, V=v_max)\n",
    "traj5.plot()"
   ]
  },
  {
   "attachments": {},
   "cell_type": "markdown",
   "metadata": {},
   "source": [
    "We see that as the velocity of the linear segment increases, its duration decreases and ultimately its duration would be zero. In fact, the velocity cannot be chosen arbitrarily – too high or too low a value for the maximum velocity will result in an infeasible trajectory and the function will return an error"
   ]
  },
  {
   "attachments": {},
   "cell_type": "markdown",
   "metadata": {},
   "source": [
    "### Interpolate Simple Translations and Rotations"
   ]
  },
  {
   "attachments": {},
   "cell_type": "markdown",
   "metadata": {},
   "source": [
    "From what we have learned so far, we start to interpolate single parameter positions and orientations.\n",
    "\n",
    "For a 2D orientation, we can describe the rotation angle using a single number $\\theta(t)$. We can interpolate the rotation angle using a polynomial or trapezoidal trajectory.\n",
    "\n",
    "In the following example we will interpolate between a starting angle $\\theta(0) = 15^\\circ$ and a final angle $\\theta(1.0) = 120^\\circ$, where we wish the final angle to occur at time $t = 1$ s."
   ]
  },
  {
   "cell_type": "code",
   "execution_count": null,
   "metadata": {},
   "outputs": [],
   "source": [
    "# Our inital and final angles in radians\n",
    "theta0 = np.deg2rad(15)\n",
    "thetaf = np.deg2rad(120)\n",
    "\n",
    "# The start and finish time\n",
    "t0 = 0.0\n",
    "tf = 1.0\n",
    "\n",
    "# A vector for time\n",
    "# Steps from t0 to tf in 50 steps\n",
    "t = np.linspace(t0, tf, 50)\n",
    "\n",
    "# Create the trajectory/interpolate between the two angles\n",
    "traj6 = rtb.quintic(theta0, thetaf, t)\n",
    "\n",
    "# Plot the trajectory\n",
    "traj6.plot()\n"
   ]
  },
  {
   "cell_type": "code",
   "execution_count": null,
   "metadata": {},
   "outputs": [],
   "source": [
    "# Animate the trajectory\n",
    "env = Swift()\n",
    "env.launch(browser='notebook', realtime=True)\n",
    "obj = sg.Arrow(0.2, 0.005, 0.2, 0.2, color=\"#fc0349\")\n",
    "env.add(obj)\n",
    "\n",
    "env.set_camera_pose([0.0, 0.0, 0.5], [0.0, 0.0, 0.0])\n",
    "\n",
    "for q in traj6.q:\n",
    "    # Note that the sm.SE3.Rx(np.pi / 2) * sm.SE3.Ry(np.pi / 2) below is to\n",
    "    # get the arrow in the xy plane\n",
    "    obj.T = sm.SE3.Rx(np.pi / 2) * sm.SE3.Ry(np.pi / 2) * sm.SE3.Ry(q)\n",
    "    env.step(0.02)"
   ]
  },
  {
   "attachments": {},
   "cell_type": "markdown",
   "metadata": {},
   "source": [
    "## Test your Understanding\n",
    "\n",
    "#### Question 1\n",
    "\n",
    "Convert the trajectory calculated in `traj6` above to a list of $\\mathbf{SO}(2)$ objects using the `spatialmath` class `SO2`.\n",
    "\n",
    "#### Question 2\n",
    "\n",
    "Plot the interpolated coordinate frames from Question 1 using `SO2` plot methods.\n",
    "\n",
    "#### Question 3\n",
    "\n",
    "For interpolating orientations, would you prefer to use a polynomial or trapezoidal trajectory? Why?\n",
    "\n",
    "#### Question 4\n",
    "\n",
    "What are some other robotics applications for trajectories?"
   ]
  },
  {
   "attachments": {},
   "cell_type": "markdown",
   "metadata": {},
   "source": [
    "## 2.2 Multi-Axis Trajectory"
   ]
  },
  {
   "attachments": {},
   "cell_type": "markdown",
   "metadata": {},
   "source": [
    "Most useful robots have more than one axis of motion and it is quite straightforward to extend the smooth scalar trajectory to the vector case. In terms\n",
    "of configuration space, these axes of motion correspond to the dimensions of the robot's configuration space -- to its degrees of\n",
    "freedom. We represent the robot's configuration as a vector $\\mathbf{q}\\in\t{\\mathbb{R}}^{n}$ where $n$ is the number of degrees of freedom. The configuration of a 3-joint\n",
    "robot would be its joint coordinates $\\mathbf{q}=(q_{0}, q_{1}, q_{2})$. The configuration vector of wheeled mobile robot might be its position $\\mathbf{q}=(x, \\ y$) or its position and heading angle $\\mathbf{q}=(x,y,\\theta)$. For a 3-dimensional body that had an orientation in $\\mathbf{SO}(3)$ we\n",
    "would use roll-pitch-yaw angles $\\mathbf{q}=(\\alpha, \\beta, \\gamma)$, or for a pose in $\\mathbf{SE}(3)$ we would use\n",
    "$\\mathbf{q}=(x,y,z, \\alpha, \\beta, \\gamma)$. \n",
    "\n",
    "_For orientation, any 3-parameter representation could be used: roll-pitch-yaw angles, Euler angles or exponential coordinates._\n",
    "\n",
    "In all these cases, we would require smooth multi-dimensional motion from an initial configuration vector to a final configuration vector.\n",
    "\n",
    "Consider a 2-axis $xy$-type robot moving from configuration $(0,2)$ to $(1, -1)$ in 50 steps with a trapezoidal profile. \n",
    "\n",
    "Using the Toolbox, this is achieved using the function `mtraj` and we write"
   ]
  },
  {
   "cell_type": "code",
   "execution_count": null,
   "metadata": {},
   "outputs": [],
   "source": [
    "# The initial position as a vector\n",
    "q0 = [0, 2]\n",
    "\n",
    "# The final position as a vector\n",
    "qf = [1, -1]\n",
    "\n",
    "# The number of steps\n",
    "steps = 50\n",
    "\n",
    "# Create the trajectory\n",
    "traj7 = rtb.mtraj(rtb.trapezoidal, q0, qf, steps)\n",
    "\n",
    "# Plot the trajectory\n",
    "traj7.plot()"
   ]
  },
  {
   "cell_type": "code",
   "execution_count": null,
   "metadata": {},
   "outputs": [],
   "source": [
    "# Animate the trajectory\n",
    "env = Swift()\n",
    "env.launch(browser='notebook', realtime=True)\n",
    "obj0 = sg.Sphere(0.03, color=\"#008cff\")\n",
    "obj1 = sg.Sphere(0.03, color=\"#fc0349\")\n",
    "env.add(obj0)\n",
    "env.add(obj1)\n",
    "env.set_camera_pose([0.5, 2.0, 0.5], [0.5, 0.0, 0.0])\n",
    "\n",
    "for q0, q1 in zip(traj7.q[:, 0], traj7.q[:, 1]):\n",
    "    obj0.T = sm.SE3.Tx(q0)\n",
    "    obj1.T = sm.SE3.Tx(q1)\n",
    "    env.step(0.02)"
   ]
  },
  {
   "attachments": {},
   "cell_type": "markdown",
   "metadata": {},
   "source": [
    "The attribute `traj7.q` is a matrix with 50 rows and 2 columns, each row being the configuration at a particular time step. Note that we could have used `rtb.quintic` as the first argument to `mtraj` to generate a quintic polynomial trajectory."
   ]
  },
  {
   "attachments": {},
   "cell_type": "markdown",
   "metadata": {},
   "source": [
    "<br>\n",
    "\n",
    "<a id='3'></a>\n",
    "# 3.0 Interpolation of Orientation\n",
    "---"
   ]
  },
  {
   "attachments": {},
   "cell_type": "markdown",
   "metadata": {},
   "source": [
    "In robotics, we often need to interpolate orientation. This essentially means that we wish to smoothly transition from one orientation to another and to achieve this we create a sequence of orientations that smoothly approach the desired orientation while starting at the original.\n",
    "\n",
    "More specifically, given two orientations ${^0\\mathbf{R}_a}$ and ${^a\\mathbf{R}_b}$, we require a function $f(s) = \\sigma({^0\\mathbf{R}_a}, {^a\\mathbf{R}_b}, s)$ where $s \\in [0, 1]$ and we have boundary conditions that give $f(0) = {^0\\mathbf{R}_a}$ and $f(1) = {^0\\mathbf{R}_b}$. The function must vary _smoothly_ for intermediate values of $s$."
   ]
  },
  {
   "attachments": {},
   "cell_type": "markdown",
   "metadata": {},
   "source": [
    "## Interpolation using RPY Angles\n",
    "\n",
    "A simple approach to interpolation is to convert rotations to roll-pitch-yaw angles, $\\Gamma \\in (\\mathbf{S^1})^3$ and use linear interpolation\n",
    "\n",
    "$$\n",
    "    \\sigma(\\Gamma_0, \\ \\Gamma_1, \\ s) = (1 - s) \\Gamma_0 + s \\Gamma_1\n",
    "$$\n",
    "\n",
    "where $s \\in [0, 1]$. We can then convert the interpolated roll-pitch-yaw angles back to a rotation matrix."
   ]
  },
  {
   "cell_type": "code",
   "execution_count": null,
   "metadata": {},
   "outputs": [],
   "source": [
    "R0 = sm.SO3.Rz(-1) * sm.SO3.Ry(-1)\n",
    "R1 = sm.SO3.Rz(1) * sm.SO3.Ry(1)\n",
    "\n",
    "rpy0 = np.expand_dims(R0.rpy(), axis=1)\n",
    "rpy1 = np.expand_dims(R1.rpy(), axis=1)\n",
    "\n",
    "ds.display(ds.Math(f\"R_0 = {sym.latex(sym.Matrix(np.round(R0.A, 2)))}\"))\n",
    "ds.display(ds.Math(f\"R_1 = {sym.latex(sym.Matrix(np.round(R1.A, 2)))}\"))\n",
    "\n",
    "traj8 = rtb.mtraj(rtb.quintic, rpy0, rpy1, 100)\n",
    "\n",
    "traj8.plot()"
   ]
  },
  {
   "attachments": {},
   "cell_type": "markdown",
   "metadata": {},
   "source": [
    "We have a sequence of 100 RPY angles. Let's convert them back to orientation matrices."
   ]
  },
  {
   "cell_type": "code",
   "execution_count": null,
   "metadata": {},
   "outputs": [],
   "source": [
    "# Convert the list of RPY angles to a list of SO3 objects\n",
    "pose = sm.SO3.RPY(traj8.q)\n",
    "\n",
    "# Animate the trajectory\n",
    "env = Swift()\n",
    "env.launch(browser='notebook', realtime=True)\n",
    "obj = sg.Axes(0.1)\n",
    "env.add(obj)\n",
    "\n",
    "env.set_camera_pose([0.5, 0.3, 0.3], [0.0, 0.0, 0.0])\n",
    "\n",
    "for R in pose:\n",
    "\n",
    "    # Move axes into free space to visualise it more clearly, then rotate\n",
    "    obj.T = sm.SE3.Trans(0.2, 0.2, 0.2) * sm.SE3(R)\n",
    "    env.step(0.02)"
   ]
  },
  {
   "attachments": {},
   "cell_type": "markdown",
   "metadata": {},
   "source": [
    "For large orientation change we see that the axis, around which the coordinate frame rotates, changes along the trajectory. The motion, while smooth, can look a bit uncoordinated. There will also be problems if either $\\mathbf{R}_1$ or $\\mathbf{R}_2$ is close to a singularity in the particular vector representation of orientation."
   ]
  },
  {
   "attachments": {},
   "cell_type": "markdown",
   "metadata": {},
   "source": [
    "Interpolation of unit quaternions is only a little more complex than for 3-angle vectors and results in a rotation about a fixed axis in space. Using the Toolbox, we first ﬁnd the two equivalent unit quaternions"
   ]
  },
  {
   "cell_type": "code",
   "execution_count": null,
   "metadata": {},
   "outputs": [],
   "source": [
    "q0 = sm.UnitQuaternion(R0)\n",
    "q1 = sm.UnitQuaternion(R1)"
   ]
  },
  {
   "attachments": {},
   "cell_type": "markdown",
   "metadata": {},
   "source": [
    "and then interpolate them in 100 uniform steps"
   ]
  },
  {
   "cell_type": "code",
   "execution_count": null,
   "metadata": {},
   "outputs": [],
   "source": [
    "qtraj = q0.interp(q1, 100)\n",
    "len(qtraj)\n",
    "\n",
    "print(qtraj[0].A)"
   ]
  },
  {
   "attachments": {},
   "cell_type": "markdown",
   "metadata": {},
   "source": [
    "where the object is the initial orientation and the arguments to the `interp` method are the final orientation and the number of steps. The result is a UnitQuaternion object that holds 50 values, which we can animate by"
   ]
  },
  {
   "cell_type": "code",
   "execution_count": null,
   "metadata": {},
   "outputs": [],
   "source": [
    "# Convert the list of quaternions to a list of SE3 objects\n",
    "pose = [q.SE3() for q in qtraj]\n",
    "\n",
    "# Animate the trajectory\n",
    "env = Swift()\n",
    "env.launch(browser='notebook', realtime=True)\n",
    "obj = sg.Axes(0.1)\n",
    "env.add(obj)\n",
    "\n",
    "env.set_camera_pose([0.5, 0.3, 0.3], [0.0, 0.0, 0.0])\n",
    "\n",
    "for T in pose:\n",
    "    # Move axes into free space to visualise it more clearly, then rotate\n",
    "    obj.T = sm.SE3.Trans(0.2, 0.2, 0.2) * T\n",
    "    env.step(0.02)"
   ]
  },
  {
   "attachments": {},
   "cell_type": "markdown",
   "metadata": {},
   "source": [
    "Quaternion interpolation is achieved using spherical linear interpolation (`slerp`) in which the unit quaternions follow a great circle path on a 4-dimensional hypersphere. The result in three dimensions is rotation about a fixed axis in space."
   ]
  },
  {
   "attachments": {},
   "cell_type": "markdown",
   "metadata": {},
   "source": [
    "When moving between two points on a circle, we can travel clockwise or counter-clockwise – the result is the same but the distance travelled may be different. The same choices exist when we move on a great circle. In this example, we animate a rotation about the $z$-axis, from an angle of $+2$ radians to $-2$ radians"
   ]
  },
  {
   "cell_type": "code",
   "execution_count": null,
   "metadata": {},
   "outputs": [],
   "source": [
    "q0 = sm.UnitQuaternion.Rz(-2)\n",
    "q1 = sm.UnitQuaternion.Rz(2)\n",
    "\n",
    "qtraj2 = q0.interp(q1, 100)\n",
    "\n",
    "# Convert the list of quaternions to a list of SE3 objects\n",
    "pose = [q.SE3() for q in qtraj2]\n",
    "\n",
    "# Animate the trajectory\n",
    "env = Swift()\n",
    "env.launch(browser='notebook', realtime=True)\n",
    "obj = sg.Axes(0.1)\n",
    "env.add(obj)\n",
    "\n",
    "env.set_camera_pose([0.5, 0.3, 0.3], [0.0, 0.0, 0.0])\n",
    "\n",
    "for T in pose:\n",
    "    # Move axes into free space to visualise it more clearly, then rotate\n",
    "    obj.T = sm.SE3.Trans(0.2, 0.2, 0.2) * T\n",
    "    env.step(0.02)"
   ]
  },
  {
   "attachments": {},
   "cell_type": "markdown",
   "metadata": {},
   "source": [
    "which is a path that takes the long way around the circle, moving 4 radians when we could travel just $2 \\pi - 4 \\approx 2.28$ radians in the opposite direction. We can request that the shortest path be taken"
   ]
  },
  {
   "cell_type": "code",
   "execution_count": null,
   "metadata": {},
   "outputs": [],
   "source": [
    "qtraj3 = q0.interp(q1, 50, shortest=True)\n",
    "\n",
    "\n",
    "qtraj2 = q0.interp(q1, 100)\n",
    "\n",
    "# Convert the list of quaternions to a list of SE3 objects\n",
    "pose = [q.SE3() for q in qtraj3]\n",
    "\n",
    "# Animate the trajectory\n",
    "env = Swift()\n",
    "env.launch(browser='notebook', realtime=True)\n",
    "obj = sg.Axes(0.1)\n",
    "env.add(obj)\n",
    "\n",
    "env.set_camera_pose([0.5, 0.3, 0.3], [0.0, 0.0, 0.0])\n",
    "\n",
    "for T in pose:\n",
    "    # Move axes into free space to visualise it more clearly, then rotate\n",
    "    obj.T = sm.SE3.Trans(0.2, 0.2, 0.2) * T\n",
    "    env.step(0.02)"
   ]
  },
  {
   "attachments": {},
   "cell_type": "markdown",
   "metadata": {},
   "source": [
    "and the animation clearly shows the difference."
   ]
  },
  {
   "attachments": {},
   "cell_type": "markdown",
   "metadata": {},
   "source": [
    "## Test Your Understanding\n",
    "\n",
    "#### Question 1\n",
    "\n",
    "Can we linearly interpolate using $\\mathbf{SO}(3)$ matrices? Why or why not?\n",
    "\n",
    "#### Question 2\n",
    "\n",
    "Given two orientations $\\mathbf{R}_1 = \\mathbf{R}_x(30^\\circ)$ and $\\mathbf{R}_2 = \\mathbf{R}_z(60^\\circ)$, interpolate between the two using\n",
    "\n",
    "* ZXY RPY representation\n",
    "* XYX Euler angles\n",
    "* Unit Quaternions\n",
    "* Euler vector representation\n",
    "\n",
    "Animate the resulting trajectories and reflect on what changes between the angular representations."
   ]
  },
  {
   "attachments": {},
   "cell_type": "markdown",
   "metadata": {},
   "source": [
    "<br>\n",
    "\n",
    "<a id='4'></a>\n",
    "# 4.0 Interpolation of Pose\n",
    "---"
   ]
  },
  {
   "attachments": {},
   "cell_type": "markdown",
   "metadata": {},
   "source": [
    "Another common requirement in robotics is to ﬁnd a smooth path between two 3D poses in $\\mathbf{R}^3 \\times \\mathbf{S}^3$ which involves change in position as well as in orientation. In robotics, this is often referred to as Cartesian motion. We represent the initial and final poses as $\\mathbf{SE}(3)$ matrices"
   ]
  },
  {
   "cell_type": "code",
   "execution_count": null,
   "metadata": {},
   "outputs": [],
   "source": [
    "T0 = sm.SE3.Trans([0.4, 0.2, 0]) * sm.SE3.RPY(0, 0, 3)\n",
    "T1 = sm.SE3.Trans([-0.4, -0.2, 0.3]) * sm.SE3.RPY(-np.pi/4, np.pi/4, -np.pi/2)"
   ]
  },
  {
   "attachments": {},
   "cell_type": "markdown",
   "metadata": {},
   "source": [
    "The `SE3` object has a method `interp` that interpolates between two poses for normalised distance $s \\in [0, 1]$ along the path, for example the midway pose between `T_0` and `T_1` is"
   ]
  },
  {
   "cell_type": "code",
   "execution_count": null,
   "metadata": {},
   "outputs": [],
   "source": [
    "T0.interp(T1, 0.5)"
   ]
  },
  {
   "attachments": {},
   "cell_type": "markdown",
   "metadata": {},
   "source": [
    "where the object is the initial pose and the arguments to the `interp` method are the final pose and the normalized distance. The translational component is linearly interpolated, while rotation is interpolated using unit quaternion spherical linear interpolation as introduced above. A trajectory between the two poses in 101 steps is created by"
   ]
  },
  {
   "cell_type": "code",
   "execution_count": null,
   "metadata": {},
   "outputs": [],
   "source": [
    "Ts = T0.interp(T1, 101)"
   ]
  },
  {
   "attachments": {},
   "cell_type": "markdown",
   "metadata": {},
   "source": [
    "and the result is an `SE3` object with 101 values representing the pose at each time step. We can visualise this with another animation "
   ]
  },
  {
   "cell_type": "code",
   "execution_count": null,
   "metadata": {},
   "outputs": [],
   "source": [
    "# Animate the trajectory\n",
    "env = Swift()\n",
    "env.launch(browser='notebook', realtime=True)\n",
    "obj = sg.Axes(0.1)\n",
    "env.add(obj)\n",
    "\n",
    "env.set_camera_pose([0.1, 0.7, 0.3], [0.0, 0.0, 0.2])\n",
    "\n",
    "for T in Ts:\n",
    "    obj.T = T\n",
    "    env.step(0.02)"
   ]
  },
  {
   "attachments": {},
   "cell_type": "markdown",
   "metadata": {},
   "source": [
    "The translational part of this trajectory is obtained by"
   ]
  },
  {
   "cell_type": "code",
   "execution_count": null,
   "metadata": {},
   "outputs": [],
   "source": [
    "P = Ts.t\n",
    "P.shape"
   ]
  },
  {
   "attachments": {},
   "cell_type": "markdown",
   "metadata": {},
   "source": [
    "which is an array where the rows represent position at consecutive time steps. This is plotted"
   ]
  },
  {
   "cell_type": "code",
   "execution_count": null,
   "metadata": {},
   "outputs": [],
   "source": [
    "rtb.xplot(P, labels=\"x y z\")"
   ]
  },
  {
   "attachments": {},
   "cell_type": "markdown",
   "metadata": {},
   "source": [
    "and the orientation as roll-pitch-yaw angles"
   ]
  },
  {
   "cell_type": "code",
   "execution_count": null,
   "metadata": {},
   "outputs": [],
   "source": [
    "rpy = Ts.rpy()\n",
    "rtb.xplot(rpy, labels=\"roll pitch yaw\")"
   ]
  },
  {
   "attachments": {},
   "cell_type": "markdown",
   "metadata": {},
   "source": [
    "We see that the position coordinates vary linearly with time, but that the roll-pitch-yaw angles are non-linear with time and that has two causes. Firstly, roll-pitch-yaw angles are a non-linear transformation of the linearly-varying quaternion orientation. Secondly, this particular trajectory passes very close to the roll-pitch-yaw singularity, at around steps 24 and 25, and a symptom of this is the rapid rate of change of roll-pitch-yaw angles around this point. The coordinate frame is not rotating faster at this point – you can verify that in the animation – the rotational parameters are changing very quickly, and this is a consequence of the particular representation.\n",
    "\n",
    "However, the motion has a velocity and acceleration discontinuity at the first and last points. While the path is smooth in space, the distance $s$ along the path is not smooth in time. Speed along the path jumps from zero to some finite value and then drops to zero at the end – there is no initial acceleration or final deceleration. The scalar functions quintic and trapezoidal discussed earlier can be used to generate the interpolation variable s so that motion along the path is smooth. We can pass a vector of normalized distances along the path as the second argument to `interp`"
   ]
  },
  {
   "cell_type": "code",
   "execution_count": null,
   "metadata": {},
   "outputs": [],
   "source": [
    "Ts = T0.interp(T1, rtb.trapezoidal(0, 1, 101).q)\n",
    "P = Ts.t\n",
    "rtb.xplot(P, labels=\"x y z\")"
   ]
  },
  {
   "cell_type": "code",
   "execution_count": null,
   "metadata": {},
   "outputs": [],
   "source": [
    "# Animate the trajectory\n",
    "env = Swift()\n",
    "env.launch(browser='notebook', realtime=True)\n",
    "obj = sg.Axes(0.1)\n",
    "env.add(obj)\n",
    "\n",
    "env.set_camera_pose([0.1, 0.7, 0.3], [0.0, 0.0, 0.2])\n",
    "\n",
    "for T in Ts:\n",
    "    obj.T = T\n",
    "    env.step(0.02)"
   ]
  },
  {
   "attachments": {},
   "cell_type": "markdown",
   "metadata": {},
   "source": [
    "The path is unchanged, but the coordinate frame now accelerates to a constant speed along the path and decelerates at the end, resulting in the smoother trajectories shown. The Toolbox provides a convenient shorthand `rtb.ctraj` function for this"
   ]
  },
  {
   "cell_type": "code",
   "execution_count": null,
   "metadata": {},
   "outputs": [],
   "source": [
    "Ts = rtb.ctraj(T0, T1, 101)"
   ]
  },
  {
   "attachments": {},
   "cell_type": "markdown",
   "metadata": {},
   "source": [
    "where the arguments are the initial and final pose and the number of time steps."
   ]
  },
  {
   "attachments": {},
   "cell_type": "markdown",
   "metadata": {},
   "source": [
    "## Test your Understanding\n",
    "\n",
    "#### Question 1\n",
    "\n",
    "Using `T0` and `T1` as above, create a trajectory that moves from `T0` to `T1` in 101 steps, but do so using Twists and the `mtraj` method. Plot the translational and rotational components of the trajectory and also create an animation. How does this trajectory differ from the one created using `SE3.interp`? Do you see any advantages or disadvantages of using twists?\n",
    "\n",
    "#### Question 2\n",
    "\n",
    "Using `T0` and `T1` as above, create a trajectory that moves from `T0` to `T1` in 101 steps, but do so using a combination of RPY angles and translations using the `mtraj` method. Plot the translational and rotational components of the trajectory and also create an animation. How does this trajectory differ from those previously created? Do you see any advantages or disadvantages?"
   ]
  }
 ],
 "metadata": {
  "kernelspec": {
   "display_name": "egh432",
   "language": "python",
   "name": "python3"
  },
  "language_info": {
   "codemirror_mode": {
    "name": "ipython",
    "version": 3
   },
   "file_extension": ".py",
   "mimetype": "text/x-python",
   "name": "python",
   "nbconvert_exporter": "python",
   "pygments_lexer": "ipython3",
   "version": "3.10.14"
  },
  "orig_nbformat": 4
 },
 "nbformat": 4,
 "nbformat_minor": 2
}
