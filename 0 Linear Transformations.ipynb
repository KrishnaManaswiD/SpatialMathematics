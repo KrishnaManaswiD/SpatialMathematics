{
 "cells": [
  {
   "cell_type": "code",
   "execution_count": null,
   "metadata": {},
   "outputs": [],
   "source": [
    "try:\n",
    "    # We must install required packages if we are in Google Colab\n",
    "    import google.colab\n",
    "    !pip install ipympl\n",
    "except:\n",
    "    pass\n",
    "\n",
    "import numpy as np\n",
    "import matplotlib.pyplot as plt\n",
    "%matplotlib widget"
   ]
  },
  {
   "attachments": {},
   "cell_type": "markdown",
   "metadata": {},
   "source": [
    "\n",
    "$\\large{\\text{Foundations of Kinematics and Algorithms in Robotics}} \\\\ \\large{\\text{Module 0: Linear Transformations}}$\n",
    "\n",
    "$\\text{By Krishna Manaswi Digumarti}$\n",
    "\n",
    "$\\text{Based on work by Peter Corke and Jesse Haviland}$ - [Original here](https://github.com/jhavl/spatialmathematics/tree/main)\n",
    "\n",
    "This is a brief exploration of linear transformations to help visualise what is happening geometrically when we apply a linear transformation to a vector."
   ]
  },
  {
   "attachments": {},
   "cell_type": "markdown",
   "metadata": {},
   "source": [
    "We have a matrix $\\mathbf{A}$ and a vector $\\mathbf{p}$."
   ]
  },
  {
   "cell_type": "code",
   "execution_count": null,
   "metadata": {},
   "outputs": [],
   "source": [
    "A = np.array([[2, 1], [3, 4]])\n",
    "p = np.array([-2, 1])"
   ]
  },
  {
   "cell_type": "markdown",
   "metadata": {},
   "source": [
    "The above lines create the matrix $\\mathbf{A} = \\begin{pmatrix} 2 & 1 \\\\ 3 & 4 \\end{pmatrix}$ and the vector $\\mathbf{p} = \\begin{pmatrix} -2 \\\\ 1 \\end{pmatrix}$.."
   ]
  },
  {
   "attachments": {},
   "cell_type": "markdown",
   "metadata": {},
   "source": [
    "### Question 1\n",
    "\n",
    "Write code to plot the original point $\\mathbf{p}$ and its linear transformation by $\\mathbf{A}$."
   ]
  },
  {
   "cell_type": "code",
   "execution_count": null,
   "metadata": {},
   "outputs": [],
   "source": [
    "q = A @ p # q is the result of applying the linear transformation A to p\n",
    "plt.plot(p[0], p[1], 'bo')\n",
    "plt.plot(q[0], q[1], 'rx')\n",
    "plt.show()\n",
    "\n",
    "# Add axes limits and show grid\n",
    "plt.xlim(-5, 5)\n",
    "plt.ylim(-5, 5)\n",
    "plt.xticks(np.arange(-5, 6, 1))\n",
    "plt.yticks(np.arange(-5, 6, 1))\n",
    "plt.grid(True)"
   ]
  },
  {
   "attachments": {},
   "cell_type": "markdown",
   "metadata": {},
   "source": [
    "### Question 2\n",
    "\n",
    "What point would be transformed to itself (hint, think about eigenvalues and eigenvectors)"
   ]
  },
  {
   "cell_type": "code",
   "execution_count": null,
   "metadata": {},
   "outputs": [],
   "source": [
    "# your code goes here"
   ]
  },
  {
   "attachments": {},
   "cell_type": "markdown",
   "metadata": {},
   "source": [
    "### Question 3\n",
    "\n",
    "Now we want to transform the 4 vertices of a square of side length 2 that is centred at the origin and whose sides are parallel to the x- and y-axes.  You can do this using a **single** matrix multiplication using the $\\mathbf{A}$ matrix.  Plot the original square and the transformed square with lines joining the vertices: blue for the original square, red for the transformed square.  Ensure that the plot has a 1:1 aspect ratio."
   ]
  },
  {
   "cell_type": "code",
   "execution_count": null,
   "metadata": {},
   "outputs": [],
   "source": [
    "plt.figure()\n",
    "\n",
    "# your code goes here"
   ]
  },
  {
   "attachments": {},
   "cell_type": "markdown",
   "metadata": {},
   "source": [
    "### Question 4\n",
    "Compute the volume of this shape.  There are algorithms to do this, search for \"area of a polygon\" or \"moments of a polygon\". How much has the area increased by?  What is the determinant of this matrix?"
   ]
  },
  {
   "cell_type": "code",
   "execution_count": null,
   "metadata": {},
   "outputs": [],
   "source": [
    "# your code goes here"
   ]
  },
  {
   "attachments": {},
   "cell_type": "markdown",
   "metadata": {},
   "source": [
    "### Question 5\n",
    "Plot the original and transformed square with the matrix $\\mathbf{A} = \\begin{pmatrix} 2 & 1 \\\\ 8 & 4 \\end{pmatrix}$.  \n",
    "\n",
    "What happens?  What is the volume of the resulting polygon?  What is the determinant of this matrix?"
   ]
  },
  {
   "cell_type": "code",
   "execution_count": null,
   "metadata": {},
   "outputs": [],
   "source": [
    "plt.figure()\n",
    "\n",
    "# your code goes here"
   ]
  },
  {
   "attachments": {},
   "cell_type": "markdown",
   "metadata": {},
   "source": [
    "### Question 6\n",
    "Plot the original and transformed square with the matrix $\\mathbf{A} =\\begin{pmatrix} 2 & 0 \\\\ 0 & 2 \\end{pmatrix}$.  \n",
    "\n",
    "What happens?  What is the volume of the resulting polygon?  What is the determinant of this matrix?"
   ]
  },
  {
   "cell_type": "code",
   "execution_count": null,
   "metadata": {},
   "outputs": [],
   "source": [
    "plt.figure()\n",
    "\n",
    "# your code goes here"
   ]
  },
  {
   "attachments": {},
   "cell_type": "markdown",
   "metadata": {},
   "source": [
    "### Question 7\n",
    "\n",
    "Plot the original and transformed square with the matrix $\\mathbf{A} = \\begin{pmatrix} 2 & 0 \\\\ 0 & 4 \\end{pmatrix}$.  \n",
    "\n",
    "What happens?  What is the volume of the resulting polygon?  What is the determinant of this matrix?"
   ]
  },
  {
   "cell_type": "code",
   "execution_count": null,
   "metadata": {},
   "outputs": [],
   "source": [
    "plt.figure()\n",
    "\n",
    "# your code goes here"
   ]
  },
  {
   "attachments": {},
   "cell_type": "markdown",
   "metadata": {},
   "source": [
    "### Question 8\n",
    "Plot the original and transformed square with the matrix $\\mathbf{A} = \\begin{pmatrix} 1 & -1 \\\\ 1 & 1 \\end{pmatrix}$.  \n",
    "\n",
    "What happens?  What is the volume of the resulting polygon?  What is the determinant of this matrix?"
   ]
  },
  {
   "cell_type": "code",
   "execution_count": null,
   "metadata": {},
   "outputs": [],
   "source": [
    "plt.figure()\n",
    "\n",
    "# your code goes here"
   ]
  },
  {
   "attachments": {},
   "cell_type": "markdown",
   "metadata": {},
   "source": [
    "### Question 9\n",
    "\n",
    "Find a value of $\\mathbf{A}$ that would ensure the red square had the same side length as the blue square? What is the determinant of this matrix?"
   ]
  },
  {
   "cell_type": "code",
   "execution_count": null,
   "metadata": {},
   "outputs": [],
   "source": [
    "plt.figure()\n",
    "\n",
    "# your code goes here"
   ]
  },
  {
   "attachments": {},
   "cell_type": "markdown",
   "metadata": {},
   "source": [
    "### Question 10\n",
    "\n",
    "This is a 45 degree rotation.  How could you make a 60 degree rotation?"
   ]
  },
  {
   "cell_type": "code",
   "execution_count": null,
   "metadata": {},
   "outputs": [],
   "source": [
    "plt.figure()\n",
    "\n",
    "# your code goes here"
   ]
  },
  {
   "attachments": {},
   "cell_type": "markdown",
   "metadata": {},
   "source": [
    "Now we are going to animate a rotating square.  You just need to fill in the missing bits."
   ]
  },
  {
   "cell_type": "code",
   "execution_count": null,
   "metadata": {},
   "outputs": [],
   "source": [
    "from matplotlib.animation import FuncAnimation\n",
    "\n",
    "def update(theta):\n",
    "    plt.clf()\n",
    "\n",
    "    # your code goes here, use plt.plot(xdata, ydata, \"r\")\n",
    "    \n",
    "    # your code goes above here\n",
    "    \n",
    "    ax = plt.gca()\n",
    "    ax.set_xlim(-2, 2)\n",
    "    ax.set_ylim(-2, 2)\n",
    "    ax.set_aspect(\"equal\")\n",
    "\n",
    "fig = plt.figure()\n",
    "ani = FuncAnimation(fig, update, np.linspace(0, 2*np.pi, 100), blit=False, repeat=False)\n"
   ]
  },
  {
   "attachments": {},
   "cell_type": "markdown",
   "metadata": {},
   "source": [
    "### Question 11\n",
    "\n",
    "Is there a value of $\\mathbf{A}$ that could translate the square, that is, move it vertically or horizontally?"
   ]
  },
  {
   "cell_type": "code",
   "execution_count": null,
   "metadata": {},
   "outputs": [],
   "source": [
    "# your code goes here"
   ]
  }
 ],
 "metadata": {
  "kernelspec": {
   "display_name": "base",
   "language": "python",
   "name": "python3"
  },
  "language_info": {
   "codemirror_mode": {
    "name": "ipython",
    "version": 3
   },
   "file_extension": ".py",
   "mimetype": "text/x-python",
   "name": "python",
   "nbconvert_exporter": "python",
   "pygments_lexer": "ipython3",
   "version": "3.11.7"
  },
  "orig_nbformat": 4
 },
 "nbformat": 4,
 "nbformat_minor": 2
}
