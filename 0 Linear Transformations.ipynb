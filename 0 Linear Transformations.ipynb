{
 "cells": [
  {
   "cell_type": "code",
   "execution_count": 1,
   "metadata": {},
   "outputs": [],
   "source": [
    "try:\n",
    "    # We must install required packages if we are in Google Colab\n",
    "    import google.colab\n",
    "    !pip install ipympl\n",
    "except:\n",
    "    pass\n",
    "\n",
    "import numpy as np\n",
    "import matplotlib.pyplot as plt\n",
    "%matplotlib widget"
   ]
  },
  {
   "attachments": {},
   "cell_type": "markdown",
   "metadata": {},
   "source": [
    "\n",
    "$\\large{\\text{Foundations of Kinematics and Algorithms in Robotics}} \\\\ \\large{\\text{Module 0: Linear Transformations}}$\n",
    "\n",
    "$\\text{By Krishna Manaswi Digumarti}$\n",
    "\n",
    "$\\text{Based on work by Peter Corke and Jesse Haviland}$ - [Original here](https://github.com/jhavl/spatialmathematics/tree/main)\n",
    "\n",
    "This is a brief exploration of linear transformations to help visualise what is happening geometrically when we apply a linear transformation to a vector."
   ]
  },
  {
   "attachments": {},
   "cell_type": "markdown",
   "metadata": {},
   "source": [
    "We have a matrix $\\mathbf{A}$ and a vector $\\mathbf{p}$."
   ]
  },
  {
   "cell_type": "code",
   "execution_count": 2,
   "metadata": {},
   "outputs": [],
   "source": [
    "A = np.array([[2, 1], [3, 4]])\n",
    "p = np.array([-2, 1])"
   ]
  },
  {
   "cell_type": "markdown",
   "metadata": {},
   "source": [
    "The above lines create the matrix $\\mathbf{A} = \\begin{pmatrix} 2 & 1 \\\\ 3 & 4 \\end{pmatrix}$ and the vector $\\mathbf{p} = \\begin{pmatrix} -2 \\\\ 1 \\end{pmatrix}$.."
   ]
  },
  {
   "attachments": {},
   "cell_type": "markdown",
   "metadata": {},
   "source": [
    "### Question 1\n",
    "\n",
    "Write code to plot the original point $\\mathbf{p}$ and its linear transformation by $\\mathbf{A}$."
   ]
  },
  {
   "cell_type": "code",
   "execution_count": 3,
   "metadata": {},
   "outputs": [
    {
     "data": {
      "application/vnd.jupyter.widget-view+json": {
       "model_id": "2a4e313332294ea6b67157bab5a2ac4e",
       "version_major": 2,
       "version_minor": 0
      },
      "image/png": "[encoded data removed]",
      "text/html": [
       "\n",
       "            <div style=\"display: inline-block;\">\n",
       "                <div class=\"jupyter-widgets widget-label\" style=\"text-align: center;\">\n",
       "                    Figure\n",
       "                </div>\n",
       "                <img src='data:image/png;base64,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' width=640.0/>\n",
       "            </div>\n",
       "        "
      ],
      "text/plain": [
       "Canvas(toolbar=Toolbar(toolitems=[('Home', 'Reset original view', 'home', 'home'), ('Back', 'Back to previous …"
      ]
     },
     "metadata": {},
     "output_type": "display_data"
    }
   ],
   "source": [
    "q = A @ p # q is the result of applying the linear transformation A to p\n",
    "plt.plot(p[0], p[1], 'bo')\n",
    "plt.plot(q[0], q[1], 'rx')\n",
    "plt.show()\n",
    "\n",
    "# Add axes limits and show grid\n",
    "plt.xlim(-5, 5)\n",
    "plt.ylim(-5, 5)\n",
    "plt.xticks(np.arange(-5, 6, 1))\n",
    "plt.yticks(np.arange(-5, 6, 1))\n",
    "plt.grid(True)"
   ]
  },
  {
   "attachments": {},
   "cell_type": "markdown",
   "metadata": {},
   "source": [
    "### Question 2\n",
    "\n",
    "What point would be transformed to itself (hint, think about eigenvalues and eigenvectors)"
   ]
  },
  {
   "cell_type": "code",
   "execution_count": null,
   "metadata": {},
   "outputs": [],
   "source": [
    "# your code goes here"
   ]
  },
  {
   "attachments": {},
   "cell_type": "markdown",
   "metadata": {},
   "source": [
    "### Question 3\n",
    "\n",
    "Now we want to transform the 4 vertices of a square of side length 2 that is centred at the origin and whose sides are parallel to the x- and y-axes.  You can do this using a **single** matrix multiplication using the $\\mathbf{A}$ matrix.  Plot the original square and the transformed square with lines joining the vertices: blue for the original square, red for the transformed square.  Ensure that the plot has a 1:1 aspect ratio."
   ]
  },
  {
   "cell_type": "code",
   "execution_count": null,
   "metadata": {},
   "outputs": [],
   "source": [
    "plt.figure()\n",
    "\n",
    "# your code goes here"
   ]
  },
  {
   "attachments": {},
   "cell_type": "markdown",
   "metadata": {},
   "source": [
    "### Question 4\n",
    "Compute the volume of this shape.  There are algorithms to do this, search for \"area of a polygon\" or \"moments of a polygon\". How much has the area increased by?  What is the determinant of this matrix?"
   ]
  },
  {
   "cell_type": "code",
   "execution_count": null,
   "metadata": {},
   "outputs": [],
   "source": [
    "# your code goes here"
   ]
  },
  {
   "attachments": {},
   "cell_type": "markdown",
   "metadata": {},
   "source": [
    "### Question 5\n",
    "Plot the original and transformed square with the matrix $\\mathbf{A} = \\begin{pmatrix} 2 & 1 \\\\ 8 & 4 \\end{pmatrix}$.  \n",
    "\n",
    "What happens?  What is the volume of the resulting polygon?  What is the determinant of this matrix?"
   ]
  },
  {
   "cell_type": "code",
   "execution_count": null,
   "metadata": {},
   "outputs": [],
   "source": [
    "plt.figure()\n",
    "\n",
    "# your code goes here"
   ]
  },
  {
   "attachments": {},
   "cell_type": "markdown",
   "metadata": {},
   "source": [
    "### Question 6\n",
    "Plot the original and transformed square with the matrix $\\mathbf{A} =\\begin{pmatrix} 2 & 0 \\\\ 0 & 2 \\end{pmatrix}$.  \n",
    "\n",
    "What happens?  What is the volume of the resulting polygon?  What is the determinant of this matrix?"
   ]
  },
  {
   "cell_type": "code",
   "execution_count": null,
   "metadata": {},
   "outputs": [],
   "source": [
    "plt.figure()\n",
    "\n",
    "# your code goes here"
   ]
  },
  {
   "attachments": {},
   "cell_type": "markdown",
   "metadata": {},
   "source": [
    "### Question 7\n",
    "\n",
    "Plot the original and transformed square with the matrix $\\mathbf{A} = \\begin{pmatrix} 2 & 0 \\\\ 0 & 4 \\end{pmatrix}$.  \n",
    "\n",
    "What happens?  What is the volume of the resulting polygon?  What is the determinant of this matrix?"
   ]
  },
  {
   "cell_type": "code",
   "execution_count": null,
   "metadata": {},
   "outputs": [],
   "source": [
    "plt.figure()\n",
    "\n",
    "# your code goes here"
   ]
  },
  {
   "attachments": {},
   "cell_type": "markdown",
   "metadata": {},
   "source": [
    "### Question 8\n",
    "Plot the original and transformed square with the matrix $\\mathbf{A} = \\begin{pmatrix} 1 & -1 \\\\ 1 & 1 \\end{pmatrix}$.  \n",
    "\n",
    "What happens?  What is the volume of the resulting polygon?  What is the determinant of this matrix?"
   ]
  },
  {
   "cell_type": "code",
   "execution_count": null,
   "metadata": {},
   "outputs": [],
   "source": [
    "plt.figure()\n",
    "\n",
    "# your code goes here"
   ]
  },
  {
   "attachments": {},
   "cell_type": "markdown",
   "metadata": {},
   "source": [
    "### Question 9\n",
    "\n",
    "Find a value of $\\mathbf{A}$ that would ensure the red square had the same side length as the blue square? What is the determinant of this matrix?"
   ]
  },
  {
   "cell_type": "code",
   "execution_count": null,
   "metadata": {},
   "outputs": [],
   "source": [
    "plt.figure()\n",
    "\n",
    "# your code goes here"
   ]
  },
  {
   "attachments": {},
   "cell_type": "markdown",
   "metadata": {},
   "source": [
    "### Question 10\n",
    "\n",
    "This is a 45 degree rotation.  How could you make a 60 degree rotation?"
   ]
  },
  {
   "cell_type": "code",
   "execution_count": null,
   "metadata": {},
   "outputs": [],
   "source": [
    "plt.figure()\n",
    "\n",
    "# your code goes here"
   ]
  },
  {
   "attachments": {},
   "cell_type": "markdown",
   "metadata": {},
   "source": [
    "Now we are going to animate a rotating square.  You just need to fill in the missing bits."
   ]
  },
  {
   "cell_type": "code",
   "execution_count": null,
   "metadata": {},
   "outputs": [],
   "source": [
    "from matplotlib.animation import FuncAnimation\n",
    "\n",
    "def update(theta):\n",
    "    plt.clf()\n",
    "\n",
    "    # your code goes here, use plt.plot(xdata, ydata, \"r\")\n",
    "    \n",
    "    # your code goes above here\n",
    "    \n",
    "    ax = plt.gca()\n",
    "    ax.set_xlim(-2, 2)\n",
    "    ax.set_ylim(-2, 2)\n",
    "    ax.set_aspect(\"equal\")\n",
    "\n",
    "fig = plt.figure()\n",
    "ani = FuncAnimation(fig, update, np.linspace(0, 2*np.pi, 100), blit=False, repeat=False)\n"
   ]
  },
  {
   "attachments": {},
   "cell_type": "markdown",
   "metadata": {},
   "source": [
    "### Question 11\n",
    "\n",
    "Is there a value of $\\mathbf{A}$ that could translate the square, that is, move it vertically or horizontally?"
   ]
  },
  {
   "cell_type": "code",
   "execution_count": null,
   "metadata": {},
   "outputs": [],
   "source": [
    "# your code goes here"
   ]
  }
 ],
 "metadata": {
  "kernelspec": {
   "display_name": "Python 3 (ipykernel)",
   "language": "python",
   "name": "python3"
  },
  "language_info": {
   "codemirror_mode": {
    "name": "ipython",
    "version": 3
   },
   "file_extension": ".py",
   "mimetype": "text/x-python",
   "name": "python",
   "nbconvert_exporter": "python",
   "pygments_lexer": "ipython3",
   "version": "3.11.1"
  }
 },
 "nbformat": 4,
 "nbformat_minor": 4
}
